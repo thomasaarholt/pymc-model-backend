{
 "cells": [
  {
   "cell_type": "code",
   "execution_count": 15,
   "metadata": {},
   "outputs": [],
   "source": [
    "from dataclasses import dataclass\n",
    "\n",
    "\n",
    "def div(x, y):\n",
    "    return x / y\n",
    "\n",
    "\n",
    "def mul(x, y):\n",
    "    return x * y\n",
    "\n",
    "\n",
    "def add(x, y):\n",
    "    return x + y\n",
    "\n",
    "\n",
    "@dataclass\n",
    "class Node:\n",
    "    value: float\n",
    "\n",
    "    def __add__(self, other):\n",
    "        return self.add(other)\n",
    "\n",
    "    def __mul__(self, other):\n",
    "        return self.mul(other)\n",
    "\n",
    "    def __truediv__(self, other):\n",
    "        return self.div(other)\n",
    "\n",
    "    def add(self, other):\n",
    "        return Node(add(self.value, other.value))\n",
    "\n",
    "    def mul(self, other):\n",
    "        return Node(mul(self.value, other.value))\n",
    "\n",
    "    def div(self, other):\n",
    "        return Node(div(self.value, other.value))\n"
   ]
  },
  {
   "cell_type": "code",
   "execution_count": null,
   "metadata": {},
   "outputs": [],
   "source": [
    "float"
   ]
  },
  {
   "cell_type": "code",
   "execution_count": 16,
   "metadata": {},
   "outputs": [
    {
     "data": {
      "text/plain": [
       "Node(value=2.0)"
      ]
     },
     "execution_count": 16,
     "metadata": {},
     "output_type": "execute_result"
    }
   ],
   "source": [
    "x = Node(2)\n",
    "y = Node(3)\n",
    "z = Node(4)\n",
    "\n",
    "\n",
    "div(mul(add(y, z), x), add(y, z))"
   ]
  },
  {
   "cell_type": "code",
   "execution_count": null,
   "metadata": {},
   "outputs": [],
   "source": [
    "\n",
    "def div(x, y):\n",
    "    return x / y\n",
    "\n",
    "\n",
    "def mul(x, y):\n",
    "    return x * y\n",
    "\n",
    "\n",
    "def add(x, y):\n",
    "    return x + y\n",
    "\n",
    "def sub(x, y):\n",
    "    return x - y\n",
    "\n",
    "\n",
    "@dataclass\n",
    "class Node:\n",
    "    value: float\n",
    "\n",
    "    def __add__(self, other):\n",
    "        return self.add(other)\n",
    "\n",
    "    def __sub__(self, other):\n",
    "        return self.sub(other)\n",
    "\n",
    "    def __mul__(self, other):\n",
    "        return self.mul(other)\n",
    "\n",
    "    def __truediv__(self, other):\n",
    "        return self.div(other)\n",
    "\n",
    "    def add(self, other):\n",
    "        return Node(add(self.value, other.value))\n",
    "    \n",
    "    def sub(self, other):\n",
    "        return Node(sub(self.value, other.value))\n",
    "\n",
    "    def mul(self, other):\n",
    "        return Node(mul(self.value, other.value))\n",
    "\n",
    "    def div(self, other):\n",
    "        return Node(div(self.value, other.value))\n",
    "\n",
    "    def __repr__(self):\n",
    "        return f\"Node({self.value})\"\n",
    "\n",
    "\n",
    "class Variable(Node):\n",
    "    pass\n",
    "\n",
    "\n",
    "class Operation:\n",
    "    pass\n",
    "\n",
    "\n",
    "class Add(Operation):\n",
    "    @classmethod\n",
    "    def operate(cls, left: Node, right: Node):\n",
    "        return left + right\n",
    "\n",
    "\n",
    "class Sub(Operation):\n",
    "    @classmethod\n",
    "    def operate(cls, left: Node, right: Node):\n",
    "        return left - right\n",
    "\n",
    "\n",
    "class Mul(Operation):\n",
    "    @classmethod\n",
    "    def operate(cls, left: Node, right: Node):\n",
    "        return left * right\n",
    "\n",
    "\n",
    "class Div(Operation):\n",
    "    @classmethod\n",
    "    def operate(cls, left: Node, right: Node):\n",
    "        return left / right\n"
   ]
  },
  {
   "cell_type": "code",
   "execution_count": null,
   "metadata": {},
   "outputs": [],
   "source": [
    "x = Node(\"x\")\n",
    "y = Node(\"y\")\n",
    "z = Node(\"z\")\n",
    "\n"
   ]
  },
  {
   "cell_type": "code",
   "execution_count": null,
   "metadata": {},
   "outputs": [],
   "source": [
    "class Operation(Node):\n",
    "    def __init__(self, operation, left=None, right=None):\n",
    "        super().__init__(operation, left, right)\n",
    "        self.operation = operation\n",
    "\n",
    "    def evaluate(self):\n",
    "        if self.operation == \"add\":\n",
    "            return self.left.evaluate() + self.right.evaluate()\n",
    "        elif self.operation == \"mul\":\n",
    "            return self.left.evaluate() * self.right.evaluate()\n",
    "        elif self.operation == \"div\":\n",
    "            return self.left.evaluate() / self.right.evaluate()\n",
    "        else:\n",
    "            raise ValueError(f\"Unknown operation: {self.operation}\")\n",
    "\n",
    "\n",
    "class Variable(Node):\n",
    "    def __init__(self, value):\n",
    "        super().__init__(value)\n",
    "\n",
    "    def evaluate(self):\n",
    "        return self.value\n",
    "\n",
    "\n",
    "# Example of how to set variables and perform evaluation\n",
    "# Create variable nodes\n",
    "y = Variable(3)  # y = 3\n",
    "z = Variable(4)  # z = 4\n",
    "x = Variable(2)  # x = 2\n",
    "\n",
    "# Create the operation nodes\n",
    "add_1 = Operation(\"add\", y, z)  # add(y, z)\n",
    "mul_node = Operation(\"mul\", add_1, x)  # mul(add(y, z), x)\n",
    "div_node = Operation(\"div\", mul_node, add_1)  # div(mul(add(y, z), x), add(y, z))\n",
    "\n",
    "# Evaluate the entire expression\n",
    "result = div_node.evaluate()\n",
    "print(f\"Result: {result}\")\n"
   ]
  },
  {
   "cell_type": "code",
   "execution_count": 17,
   "metadata": {},
   "outputs": [
    {
     "data": {
      "text/plain": [
       "Node(value=2.0)"
      ]
     },
     "execution_count": 17,
     "metadata": {},
     "output_type": "execute_result"
    }
   ],
   "source": [
    "y.add(z).mul(x).div(y.add(z))"
   ]
  },
  {
   "cell_type": "code",
   "execution_count": null,
   "metadata": {},
   "outputs": [],
   "source": [
    "y.add(z)\n",
    "\n",
    "(y, z).add()"
   ]
  },
  {
   "cell_type": "code",
   "execution_count": null,
   "metadata": {},
   "outputs": [],
   "source": [
    "from dataclasses import dataclass\n",
    "\n",
    "\n",
    "@dataclass\n",
    "class Symbol:\n",
    "    name: str\n",
    "\n",
    "class \n"
   ]
  },
  {
   "cell_type": "code",
   "execution_count": 5,
   "metadata": {},
   "outputs": [],
   "source": [
    "n = \"daniel\"\n",
    "\n",
    "\n",
    "myset = {\"thomas\"}\n",
    "\n",
    "myset.add(n)"
   ]
  },
  {
   "cell_type": "code",
   "execution_count": 6,
   "metadata": {},
   "outputs": [],
   "source": [
    "myset.add(\"daniel\")"
   ]
  },
  {
   "cell_type": "code",
   "execution_count": 7,
   "metadata": {},
   "outputs": [
    {
     "data": {
      "text/plain": [
       "{'daniel', 'thomas'}"
      ]
     },
     "execution_count": 7,
     "metadata": {},
     "output_type": "execute_result"
    }
   ],
   "source": [
    "myset"
   ]
  }
 ],
 "metadata": {
  "kernelspec": {
   "display_name": ".venv",
   "language": "python",
   "name": "python3"
  },
  "language_info": {
   "codemirror_mode": {
    "name": "ipython",
    "version": 3
   },
   "file_extension": ".py",
   "mimetype": "text/x-python",
   "name": "python",
   "nbconvert_exporter": "python",
   "pygments_lexer": "ipython3",
   "version": "3.12.5"
  }
 },
 "nbformat": 4,
 "nbformat_minor": 2
}
